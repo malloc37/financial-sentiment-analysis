{
  "nbformat": 4,
  "nbformat_minor": 0,
  "metadata": {
    "colab": {
      "name": "financial_sentiment_analysis.ipynb",
      "provenance": [],
      "collapsed_sections": [],
      "machine_shape": "hm"
    },
    "kernelspec": {
      "name": "python3",
      "display_name": "Python 3"
    },
    "language_info": {
      "name": "python"
    }
  },
  "cells": [
    {
      "cell_type": "markdown",
      "metadata": {
        "id": "rDlF5ZKeHUHm"
      },
      "source": [
        "# Financial Sentiment Analysis\n",
        "\n",
        "In this project I'll get stock news from FinViz and apply sentiment analysis using NLTK's Vaders module (https://www.nltk.org/_modules/nltk/sentiment/vader.html)"
      ]
    },
    {
      "cell_type": "code",
      "metadata": {
        "colab": {
          "base_uri": "https://localhost:8080/"
        },
        "id": "uvPg-QpSJJaP",
        "outputId": "9c6c9279-f208-452f-85c6-c2b1bec31c53"
      },
      "source": [
        "import nltk\n",
        "nltk.download(\"vader_lexicon\")"
      ],
      "execution_count": null,
      "outputs": [
        {
          "output_type": "stream",
          "name": "stdout",
          "text": [
            "[nltk_data] Downloading package vader_lexicon to /root/nltk_data...\n",
            "[nltk_data]   Package vader_lexicon is already up-to-date!\n"
          ]
        },
        {
          "output_type": "execute_result",
          "data": {
            "text/plain": [
              "True"
            ]
          },
          "metadata": {},
          "execution_count": 1
        }
      ]
    },
    {
      "cell_type": "markdown",
      "metadata": {
        "id": "karjTIljH0Zx"
      },
      "source": [
        "## Imports and Initialization"
      ]
    },
    {
      "cell_type": "code",
      "metadata": {
        "id": "fqtbhnABHLNV",
        "colab": {
          "base_uri": "https://localhost:8080/"
        },
        "outputId": "a916434a-3de2-4278-d5e8-ed898c7a5966"
      },
      "source": [
        "from urllib.request import urlopen, Request\n",
        "from bs4 import BeautifulSoup\n",
        "from nltk.sentiment.vader import SentimentIntensityAnalyzer\n",
        "import pandas as pd\n",
        "import matplotlib.pyplot as plt\n",
        "\n",
        "finviz_url = \"https://finviz.com/quote.ashx?t=\"\n",
        "#tickers = ['AMZN', 'TSLA', 'FB', ]\n",
        "\n",
        "# getting the S&P 500 companies tickers\n",
        "table=pd.read_html('https://en.wikipedia.org/wiki/List_of_S%26P_500_companies')\n",
        "df = table[0]\n",
        "tickers = df[\"Symbol\"].tolist()"
      ],
      "execution_count": null,
      "outputs": [
        {
          "output_type": "stream",
          "name": "stderr",
          "text": [
            "/usr/local/lib/python3.7/dist-packages/nltk/twitter/__init__.py:20: UserWarning: The twython library has not been installed. Some functionality from the twitter package will not be available.\n",
            "  warnings.warn(\"The twython library has not been installed. \"\n"
          ]
        }
      ]
    },
    {
      "cell_type": "markdown",
      "metadata": {
        "id": "DUR2RWxzIDwp"
      },
      "source": [
        "## Scraping the FinViz data"
      ]
    },
    {
      "cell_type": "code",
      "metadata": {
        "id": "AjXwopo5IKw_",
        "colab": {
          "base_uri": "https://localhost:8080/"
        },
        "outputId": "2a244d2a-965a-40ca-ba45-36ff5f7738bd"
      },
      "source": [
        "news_tables = {}\n",
        "for ticker in tickers: \n",
        "    url = finviz_url + ticker\n",
        "    try: \n",
        "      req = Request(url=url, headers={'user-agent': 'app'})\n",
        "      response = urlopen(req)\n",
        "      html = BeautifulSoup(response, 'html')\n",
        "      news_table = html.find(id='news-table')\n",
        "      news_tables[ticker] = news_table\n",
        "    except: \n",
        "      print(\"No info on ticker: \" + ticker)"
      ],
      "execution_count": null,
      "outputs": [
        {
          "output_type": "stream",
          "name": "stdout",
          "text": [
            "No info on ticker: BRK.B\n",
            "No info on ticker: BF.B\n"
          ]
        }
      ]
    },
    {
      "cell_type": "code",
      "metadata": {
        "id": "R4pLyHGMIOn5"
      },
      "source": [
        "parsed_data = []\n",
        "\n",
        "for ticker, news_table in news_tables.items():\n",
        "    for row in news_table.findAll('tr'):\n",
        "        title = row.a.text\n",
        "        date_data = row.td.text.split(' ')\n",
        "\n",
        "        # date and time sometimes in different formats on website\n",
        "        if len(date_data) == 1:\n",
        "            time = date[0]\n",
        "        else:\n",
        "            date = date_data[0]\n",
        "            time = date_data[1]\n",
        "\n",
        "        parsed_data.append([ticker, date, time, title])"
      ],
      "execution_count": null,
      "outputs": []
    },
    {
      "cell_type": "markdown",
      "metadata": {
        "id": "KHzXgKnIIXBn"
      },
      "source": [
        "## Creating a DataFrame for visualising the sentiment"
      ]
    },
    {
      "cell_type": "code",
      "metadata": {
        "id": "QxLz9IWhIeux"
      },
      "source": [
        "df = pd.DataFrame(parsed_data, columns=['ticker', 'date', 'time', 'title'])\n",
        "headline_df = df"
      ],
      "execution_count": null,
      "outputs": []
    },
    {
      "cell_type": "code",
      "metadata": {
        "colab": {
          "base_uri": "https://localhost:8080/"
        },
        "id": "4Njj2ShJJej4",
        "outputId": "e355ca12-0435-4868-a0b3-851deede5767"
      },
      "source": [
        "print(df.head)"
      ],
      "execution_count": null,
      "outputs": [
        {
          "output_type": "stream",
          "name": "stdout",
          "text": [
            "<bound method NDFrame.head of       ticker  ...                                              title\n",
            "0        MMM  ...  3M (MMM) Gains As Market Dips: What You Should...\n",
            "1        MMM  ...  We need to act with purpose: One 3Mer's passio...\n",
            "2        MMM  ...  Looking to Generate Passive Income? Consider T...\n",
            "3        MMM  ...  Why Is 3M (MMM) Down 0.3% Since Last Earnings ...\n",
            "4        MMM  ...                 Como Welcomes Kulu the Polar Bear!\n",
            "...      ...  ...                                                ...\n",
            "50045    ZTS  ...        Top Stock Reports for Apple, Alibaba & AT&T\n",
            "50046    ZTS  ...  Pfizer (PFE) Gets Unfavorable Votes from FDA P...\n",
            "50047    ZTS  ...  Novartis (NVS) Posts Positive Data From Prosta...\n",
            "50048    ZTS  ...               Is Zoetis (ZTS) Stock A Buy or Sell?\n",
            "50049    ZTS  ...  Zoetis (ZTS) Down 7.5% Since Last Earnings Rep...\n",
            "\n",
            "[50050 rows x 4 columns]>\n"
          ]
        }
      ]
    },
    {
      "cell_type": "markdown",
      "metadata": {
        "id": "f5wfgGpzIk-X"
      },
      "source": [
        "## Calling Vader module to get sentiment and integrate it into the DataFrame"
      ]
    },
    {
      "cell_type": "code",
      "metadata": {
        "id": "ZaQDSgjvIuKk"
      },
      "source": [
        "vader = SentimentIntensityAnalyzer()\n",
        "# only interested in compound score\n",
        "f = lambda title: vader.polarity_scores(title)['compound']\n",
        "df['compound'] = df['title'].apply(f)\n",
        "df['date'] = pd.to_datetime(df.date).dt.date\n"
      ],
      "execution_count": null,
      "outputs": []
    },
    {
      "cell_type": "code",
      "metadata": {
        "colab": {
          "base_uri": "https://localhost:8080/"
        },
        "id": "t6cWN_n9JHzL",
        "outputId": "3e4221a4-bb84-478d-8b78-e969b3349809"
      },
      "source": [
        "# check how balanced data is\n",
        "def check_balance(comp_vals):\n",
        "  pos = (len([x for x in comp_vals if x > 0]) / len(comp_vals)) * 100\n",
        "  neg = 100 - pos\n",
        "  print(\"Positive: \" + str(pos) + \" Negative: \" + str(neg))\n",
        "\n",
        "check_balance(df[\"compound\"].tolist())"
      ],
      "execution_count": null,
      "outputs": [
        {
          "output_type": "stream",
          "name": "stdout",
          "text": [
            "Positive: 41.768231768231765 Negative: 58.231768231768235\n"
          ]
        }
      ]
    },
    {
      "cell_type": "markdown",
      "metadata": {
        "id": "6KZ2SyRlIxA3"
      },
      "source": [
        "## Plot the sentiment of the stocks by each day"
      ]
    },
    {
      "cell_type": "code",
      "metadata": {
        "colab": {
          "base_uri": "https://localhost:8080/",
          "height": 156
        },
        "id": "E80bN_4BJvGl",
        "outputId": "2f47a07e-cdff-4b95-8d79-44a8fafe1a5f"
      },
      "source": [
        "plt.figure(figsize=(10,8))\n",
        "\n",
        "mean_df = df.groupby(['ticker', 'date']).mean()\n",
        "print(mean_df.head())"
      ],
      "execution_count": null,
      "outputs": [
        {
          "output_type": "stream",
          "name": "stdout",
          "text": [
            "                   compound\n",
            "ticker date                \n",
            "A      2021-08-06  0.151725\n",
            "       2021-08-08  0.000000\n",
            "       2021-08-09  0.000000\n",
            "       2021-08-10  0.000000\n",
            "       2021-08-11  0.202300\n"
          ]
        },
        {
          "output_type": "display_data",
          "data": {
            "text/plain": [
              "<Figure size 720x576 with 0 Axes>"
            ]
          },
          "metadata": {}
        }
      ]
    },
    {
      "cell_type": "code",
      "metadata": {
        "id": "JtaMH-5sgGfz"
      },
      "source": [
        "df_mean = mean_df"
      ],
      "execution_count": null,
      "outputs": []
    },
    {
      "cell_type": "code",
      "metadata": {
        "colab": {
          "base_uri": "https://localhost:8080/",
          "height": 35
        },
        "id": "V9Ch6hpyI2HQ",
        "outputId": "d72e9011-2d90-4144-c22d-0d156f8ce0dd"
      },
      "source": [
        "# Skip this step for all S&P 500 comp since it gets messy to see\n",
        "\"\"\"mean_df = mean_df.unstack()\n",
        "mean_df = mean_df.xs('compound', axis=\"columns\").transpose()\n",
        "mean_df.plot(kind='bar')\"\"\""
      ],
      "execution_count": null,
      "outputs": [
        {
          "output_type": "execute_result",
          "data": {
            "application/vnd.google.colaboratory.intrinsic+json": {
              "type": "string"
            },
            "text/plain": [
              "'mean_df = mean_df.unstack()\\nmean_df = mean_df.xs(\\'compound\\', axis=\"columns\").transpose()\\nmean_df.plot(kind=\\'bar\\')'"
            ]
          },
          "metadata": {},
          "execution_count": 11
        }
      ]
    },
    {
      "cell_type": "code",
      "metadata": {
        "colab": {
          "base_uri": "https://localhost:8080/"
        },
        "id": "7MEwm67rH5KT",
        "outputId": "4d513fb3-7806-429d-b29e-38632f3e77af"
      },
      "source": [
        "!pip install yfinance"
      ],
      "execution_count": null,
      "outputs": [
        {
          "output_type": "stream",
          "name": "stdout",
          "text": [
            "Requirement already satisfied: yfinance in /usr/local/lib/python3.7/dist-packages (0.1.67)\n",
            "Requirement already satisfied: numpy>=1.15 in /usr/local/lib/python3.7/dist-packages (from yfinance) (1.19.5)\n",
            "Requirement already satisfied: multitasking>=0.0.7 in /usr/local/lib/python3.7/dist-packages (from yfinance) (0.0.10)\n",
            "Requirement already satisfied: lxml>=4.5.1 in /usr/local/lib/python3.7/dist-packages (from yfinance) (4.6.4)\n",
            "Requirement already satisfied: requests>=2.20 in /usr/local/lib/python3.7/dist-packages (from yfinance) (2.23.0)\n",
            "Requirement already satisfied: pandas>=0.24 in /usr/local/lib/python3.7/dist-packages (from yfinance) (1.1.5)\n",
            "Requirement already satisfied: python-dateutil>=2.7.3 in /usr/local/lib/python3.7/dist-packages (from pandas>=0.24->yfinance) (2.8.2)\n",
            "Requirement already satisfied: pytz>=2017.2 in /usr/local/lib/python3.7/dist-packages (from pandas>=0.24->yfinance) (2018.9)\n",
            "Requirement already satisfied: six>=1.5 in /usr/local/lib/python3.7/dist-packages (from python-dateutil>=2.7.3->pandas>=0.24->yfinance) (1.15.0)\n",
            "Requirement already satisfied: certifi>=2017.4.17 in /usr/local/lib/python3.7/dist-packages (from requests>=2.20->yfinance) (2021.10.8)\n",
            "Requirement already satisfied: chardet<4,>=3.0.2 in /usr/local/lib/python3.7/dist-packages (from requests>=2.20->yfinance) (3.0.4)\n",
            "Requirement already satisfied: urllib3!=1.25.0,!=1.25.1,<1.26,>=1.21.1 in /usr/local/lib/python3.7/dist-packages (from requests>=2.20->yfinance) (1.24.3)\n",
            "Requirement already satisfied: idna<3,>=2.5 in /usr/local/lib/python3.7/dist-packages (from requests>=2.20->yfinance) (2.10)\n"
          ]
        }
      ]
    },
    {
      "cell_type": "markdown",
      "metadata": {
        "id": "LGWC_PPOK_nv"
      },
      "source": [
        "## Getting stock prices for the tickers\n",
        "\n",
        "Getting the historical data from yahoo finance. After that the daily returns are calculated and saved in a new data frame"
      ]
    },
    {
      "cell_type": "code",
      "metadata": {
        "colab": {
          "base_uri": "https://localhost:8080/",
          "height": 541
        },
        "id": "5RHnmPf0KSq3",
        "outputId": "b38fc84a-e935-4da1-a89a-d7beec8a7113"
      },
      "source": [
        "import yfinance as yf\n",
        "\n",
        "dates = pd.to_datetime(df_mean.index.get_level_values(\"date\"))\n",
        "start, end = dates.min().date(), (dates.max() + pd.Timedelta(days=1)).date()\n",
        "df = (\n",
        "    yf.download(tickers, start=start, end=end)\n",
        "      .stack(level=1)\n",
        "      .drop(columns=[\"Close\", \"High\", \"Low\", \"Open\", \"Volume\"])\n",
        "      .rename(columns={\"Adj Close\": \"returns\"})\n",
        "      .reorder_levels([1, 0])\n",
        "      .sort_index(level=0)\n",
        ")\n",
        "\n",
        "df.index = df.index.rename([\"ticker\", \"date\"])\n",
        "df_mean[\"returns\"] = df.returns\n",
        "df_mean.returns = df_mean.groupby(\"ticker\").returns.pct_change()\n",
        "df_mean\n"
      ],
      "execution_count": null,
      "outputs": [
        {
          "output_type": "stream",
          "name": "stdout",
          "text": [
            "[*********************100%***********************]  505 of 505 completed\n",
            "\n",
            "2 Failed downloads:\n",
            "- BF.B: No data found for this date range, symbol may be delisted\n",
            "- BRK.B: No data found, symbol may be delisted\n"
          ]
        },
        {
          "output_type": "execute_result",
          "data": {
            "text/html": [
              "<div>\n",
              "<style scoped>\n",
              "    .dataframe tbody tr th:only-of-type {\n",
              "        vertical-align: middle;\n",
              "    }\n",
              "\n",
              "    .dataframe tbody tr th {\n",
              "        vertical-align: top;\n",
              "    }\n",
              "\n",
              "    .dataframe thead th {\n",
              "        text-align: right;\n",
              "    }\n",
              "</style>\n",
              "<table border=\"1\" class=\"dataframe\">\n",
              "  <thead>\n",
              "    <tr style=\"text-align: right;\">\n",
              "      <th></th>\n",
              "      <th></th>\n",
              "      <th>compound</th>\n",
              "      <th>returns</th>\n",
              "    </tr>\n",
              "    <tr>\n",
              "      <th>ticker</th>\n",
              "      <th>date</th>\n",
              "      <th></th>\n",
              "      <th></th>\n",
              "    </tr>\n",
              "  </thead>\n",
              "  <tbody>\n",
              "    <tr>\n",
              "      <th rowspan=\"5\" valign=\"top\">A</th>\n",
              "      <th>2021-08-06</th>\n",
              "      <td>0.151725</td>\n",
              "      <td>NaN</td>\n",
              "    </tr>\n",
              "    <tr>\n",
              "      <th>2021-08-08</th>\n",
              "      <td>0.000000</td>\n",
              "      <td>0.000000</td>\n",
              "    </tr>\n",
              "    <tr>\n",
              "      <th>2021-08-09</th>\n",
              "      <td>0.000000</td>\n",
              "      <td>0.005395</td>\n",
              "    </tr>\n",
              "    <tr>\n",
              "      <th>2021-08-10</th>\n",
              "      <td>0.000000</td>\n",
              "      <td>-0.000128</td>\n",
              "    </tr>\n",
              "    <tr>\n",
              "      <th>2021-08-11</th>\n",
              "      <td>0.202300</td>\n",
              "      <td>0.000000</td>\n",
              "    </tr>\n",
              "    <tr>\n",
              "      <th>...</th>\n",
              "      <th>...</th>\n",
              "      <td>...</td>\n",
              "      <td>...</td>\n",
              "    </tr>\n",
              "    <tr>\n",
              "      <th rowspan=\"5\" valign=\"top\">ZTS</th>\n",
              "      <th>2021-11-12</th>\n",
              "      <td>0.202300</td>\n",
              "      <td>0.001247</td>\n",
              "    </tr>\n",
              "    <tr>\n",
              "      <th>2021-11-17</th>\n",
              "      <td>0.585900</td>\n",
              "      <td>0.023150</td>\n",
              "    </tr>\n",
              "    <tr>\n",
              "      <th>2021-11-19</th>\n",
              "      <td>0.000000</td>\n",
              "      <td>0.020553</td>\n",
              "    </tr>\n",
              "    <tr>\n",
              "      <th>2021-11-22</th>\n",
              "      <td>0.381800</td>\n",
              "      <td>-0.009230</td>\n",
              "    </tr>\n",
              "    <tr>\n",
              "      <th>2021-11-30</th>\n",
              "      <td>0.000000</td>\n",
              "      <td>-0.010252</td>\n",
              "    </tr>\n",
              "  </tbody>\n",
              "</table>\n",
              "<p>28026 rows × 2 columns</p>\n",
              "</div>"
            ],
            "text/plain": [
              "                   compound   returns\n",
              "ticker date                          \n",
              "A      2021-08-06  0.151725       NaN\n",
              "       2021-08-08  0.000000  0.000000\n",
              "       2021-08-09  0.000000  0.005395\n",
              "       2021-08-10  0.000000 -0.000128\n",
              "       2021-08-11  0.202300  0.000000\n",
              "...                     ...       ...\n",
              "ZTS    2021-11-12  0.202300  0.001247\n",
              "       2021-11-17  0.585900  0.023150\n",
              "       2021-11-19  0.000000  0.020553\n",
              "       2021-11-22  0.381800 -0.009230\n",
              "       2021-11-30  0.000000 -0.010252\n",
              "\n",
              "[28026 rows x 2 columns]"
            ]
          },
          "metadata": {},
          "execution_count": 13
        }
      ]
    },
    {
      "cell_type": "markdown",
      "metadata": {
        "id": "H0LYt7h_YK_w"
      },
      "source": [
        "## Evaluation\n",
        "\n",
        "Checking the lagged sentiment score against daily returns using regression. The goal is to see if the sentiment score predicts future stock returns"
      ]
    },
    {
      "cell_type": "code",
      "metadata": {
        "colab": {
          "base_uri": "https://localhost:8080/",
          "height": 455
        },
        "id": "tWCDbr36doXR",
        "outputId": "831674b9-c99d-46d8-c97e-7bbee0a4939d"
      },
      "source": [
        "# preparing to check older dates comp score with future returns\n",
        "df_mean[\"compound_shifted\"] = df_mean.compound.shift(1)\n",
        "df_mean"
      ],
      "execution_count": null,
      "outputs": [
        {
          "output_type": "execute_result",
          "data": {
            "text/html": [
              "<div>\n",
              "<style scoped>\n",
              "    .dataframe tbody tr th:only-of-type {\n",
              "        vertical-align: middle;\n",
              "    }\n",
              "\n",
              "    .dataframe tbody tr th {\n",
              "        vertical-align: top;\n",
              "    }\n",
              "\n",
              "    .dataframe thead th {\n",
              "        text-align: right;\n",
              "    }\n",
              "</style>\n",
              "<table border=\"1\" class=\"dataframe\">\n",
              "  <thead>\n",
              "    <tr style=\"text-align: right;\">\n",
              "      <th></th>\n",
              "      <th></th>\n",
              "      <th>compound</th>\n",
              "      <th>returns</th>\n",
              "      <th>compound_shifted</th>\n",
              "    </tr>\n",
              "    <tr>\n",
              "      <th>ticker</th>\n",
              "      <th>date</th>\n",
              "      <th></th>\n",
              "      <th></th>\n",
              "      <th></th>\n",
              "    </tr>\n",
              "  </thead>\n",
              "  <tbody>\n",
              "    <tr>\n",
              "      <th rowspan=\"5\" valign=\"top\">A</th>\n",
              "      <th>2021-08-06</th>\n",
              "      <td>0.151725</td>\n",
              "      <td>NaN</td>\n",
              "      <td>NaN</td>\n",
              "    </tr>\n",
              "    <tr>\n",
              "      <th>2021-08-08</th>\n",
              "      <td>0.000000</td>\n",
              "      <td>0.000000</td>\n",
              "      <td>0.151725</td>\n",
              "    </tr>\n",
              "    <tr>\n",
              "      <th>2021-08-09</th>\n",
              "      <td>0.000000</td>\n",
              "      <td>0.005395</td>\n",
              "      <td>0.000000</td>\n",
              "    </tr>\n",
              "    <tr>\n",
              "      <th>2021-08-10</th>\n",
              "      <td>0.000000</td>\n",
              "      <td>-0.000128</td>\n",
              "      <td>0.000000</td>\n",
              "    </tr>\n",
              "    <tr>\n",
              "      <th>2021-08-11</th>\n",
              "      <td>0.202300</td>\n",
              "      <td>0.000000</td>\n",
              "      <td>0.000000</td>\n",
              "    </tr>\n",
              "    <tr>\n",
              "      <th>...</th>\n",
              "      <th>...</th>\n",
              "      <td>...</td>\n",
              "      <td>...</td>\n",
              "      <td>...</td>\n",
              "    </tr>\n",
              "    <tr>\n",
              "      <th rowspan=\"5\" valign=\"top\">ZTS</th>\n",
              "      <th>2021-11-12</th>\n",
              "      <td>0.202300</td>\n",
              "      <td>0.001247</td>\n",
              "      <td>0.000000</td>\n",
              "    </tr>\n",
              "    <tr>\n",
              "      <th>2021-11-17</th>\n",
              "      <td>0.585900</td>\n",
              "      <td>0.023150</td>\n",
              "      <td>0.202300</td>\n",
              "    </tr>\n",
              "    <tr>\n",
              "      <th>2021-11-19</th>\n",
              "      <td>0.000000</td>\n",
              "      <td>0.020553</td>\n",
              "      <td>0.585900</td>\n",
              "    </tr>\n",
              "    <tr>\n",
              "      <th>2021-11-22</th>\n",
              "      <td>0.381800</td>\n",
              "      <td>-0.009230</td>\n",
              "      <td>0.000000</td>\n",
              "    </tr>\n",
              "    <tr>\n",
              "      <th>2021-11-30</th>\n",
              "      <td>0.000000</td>\n",
              "      <td>-0.010252</td>\n",
              "      <td>0.381800</td>\n",
              "    </tr>\n",
              "  </tbody>\n",
              "</table>\n",
              "<p>28026 rows × 3 columns</p>\n",
              "</div>"
            ],
            "text/plain": [
              "                   compound   returns  compound_shifted\n",
              "ticker date                                            \n",
              "A      2021-08-06  0.151725       NaN               NaN\n",
              "       2021-08-08  0.000000  0.000000          0.151725\n",
              "       2021-08-09  0.000000  0.005395          0.000000\n",
              "       2021-08-10  0.000000 -0.000128          0.000000\n",
              "       2021-08-11  0.202300  0.000000          0.000000\n",
              "...                     ...       ...               ...\n",
              "ZTS    2021-11-12  0.202300  0.001247          0.000000\n",
              "       2021-11-17  0.585900  0.023150          0.202300\n",
              "       2021-11-19  0.000000  0.020553          0.585900\n",
              "       2021-11-22  0.381800 -0.009230          0.000000\n",
              "       2021-11-30  0.000000 -0.010252          0.381800\n",
              "\n",
              "[28026 rows x 3 columns]"
            ]
          },
          "metadata": {},
          "execution_count": 14
        }
      ]
    },
    {
      "cell_type": "code",
      "metadata": {
        "colab": {
          "base_uri": "https://localhost:8080/",
          "height": 455
        },
        "id": "1uU1YgH1cV88",
        "outputId": "4cb14228-ed58-4d50-b7c4-a0ae1668a710"
      },
      "source": [
        "# NaN implies score of 0\n",
        "df_mean.fillna(0, inplace=True)\n",
        "df_mean"
      ],
      "execution_count": null,
      "outputs": [
        {
          "output_type": "execute_result",
          "data": {
            "text/html": [
              "<div>\n",
              "<style scoped>\n",
              "    .dataframe tbody tr th:only-of-type {\n",
              "        vertical-align: middle;\n",
              "    }\n",
              "\n",
              "    .dataframe tbody tr th {\n",
              "        vertical-align: top;\n",
              "    }\n",
              "\n",
              "    .dataframe thead th {\n",
              "        text-align: right;\n",
              "    }\n",
              "</style>\n",
              "<table border=\"1\" class=\"dataframe\">\n",
              "  <thead>\n",
              "    <tr style=\"text-align: right;\">\n",
              "      <th></th>\n",
              "      <th></th>\n",
              "      <th>compound</th>\n",
              "      <th>returns</th>\n",
              "      <th>compound_shifted</th>\n",
              "    </tr>\n",
              "    <tr>\n",
              "      <th>ticker</th>\n",
              "      <th>date</th>\n",
              "      <th></th>\n",
              "      <th></th>\n",
              "      <th></th>\n",
              "    </tr>\n",
              "  </thead>\n",
              "  <tbody>\n",
              "    <tr>\n",
              "      <th rowspan=\"5\" valign=\"top\">A</th>\n",
              "      <th>2021-08-06</th>\n",
              "      <td>0.151725</td>\n",
              "      <td>0.000000</td>\n",
              "      <td>0.000000</td>\n",
              "    </tr>\n",
              "    <tr>\n",
              "      <th>2021-08-08</th>\n",
              "      <td>0.000000</td>\n",
              "      <td>0.000000</td>\n",
              "      <td>0.151725</td>\n",
              "    </tr>\n",
              "    <tr>\n",
              "      <th>2021-08-09</th>\n",
              "      <td>0.000000</td>\n",
              "      <td>0.005395</td>\n",
              "      <td>0.000000</td>\n",
              "    </tr>\n",
              "    <tr>\n",
              "      <th>2021-08-10</th>\n",
              "      <td>0.000000</td>\n",
              "      <td>-0.000128</td>\n",
              "      <td>0.000000</td>\n",
              "    </tr>\n",
              "    <tr>\n",
              "      <th>2021-08-11</th>\n",
              "      <td>0.202300</td>\n",
              "      <td>0.000000</td>\n",
              "      <td>0.000000</td>\n",
              "    </tr>\n",
              "    <tr>\n",
              "      <th>...</th>\n",
              "      <th>...</th>\n",
              "      <td>...</td>\n",
              "      <td>...</td>\n",
              "      <td>...</td>\n",
              "    </tr>\n",
              "    <tr>\n",
              "      <th rowspan=\"5\" valign=\"top\">ZTS</th>\n",
              "      <th>2021-11-12</th>\n",
              "      <td>0.202300</td>\n",
              "      <td>0.001247</td>\n",
              "      <td>0.000000</td>\n",
              "    </tr>\n",
              "    <tr>\n",
              "      <th>2021-11-17</th>\n",
              "      <td>0.585900</td>\n",
              "      <td>0.023150</td>\n",
              "      <td>0.202300</td>\n",
              "    </tr>\n",
              "    <tr>\n",
              "      <th>2021-11-19</th>\n",
              "      <td>0.000000</td>\n",
              "      <td>0.020553</td>\n",
              "      <td>0.585900</td>\n",
              "    </tr>\n",
              "    <tr>\n",
              "      <th>2021-11-22</th>\n",
              "      <td>0.381800</td>\n",
              "      <td>-0.009230</td>\n",
              "      <td>0.000000</td>\n",
              "    </tr>\n",
              "    <tr>\n",
              "      <th>2021-11-30</th>\n",
              "      <td>0.000000</td>\n",
              "      <td>-0.010252</td>\n",
              "      <td>0.381800</td>\n",
              "    </tr>\n",
              "  </tbody>\n",
              "</table>\n",
              "<p>28026 rows × 3 columns</p>\n",
              "</div>"
            ],
            "text/plain": [
              "                   compound   returns  compound_shifted\n",
              "ticker date                                            \n",
              "A      2021-08-06  0.151725  0.000000          0.000000\n",
              "       2021-08-08  0.000000  0.000000          0.151725\n",
              "       2021-08-09  0.000000  0.005395          0.000000\n",
              "       2021-08-10  0.000000 -0.000128          0.000000\n",
              "       2021-08-11  0.202300  0.000000          0.000000\n",
              "...                     ...       ...               ...\n",
              "ZTS    2021-11-12  0.202300  0.001247          0.000000\n",
              "       2021-11-17  0.585900  0.023150          0.202300\n",
              "       2021-11-19  0.000000  0.020553          0.585900\n",
              "       2021-11-22  0.381800 -0.009230          0.000000\n",
              "       2021-11-30  0.000000 -0.010252          0.381800\n",
              "\n",
              "[28026 rows x 3 columns]"
            ]
          },
          "metadata": {},
          "execution_count": 15
        }
      ]
    },
    {
      "cell_type": "markdown",
      "metadata": {
        "id": "5tzyaXOGdabZ"
      },
      "source": [
        "## Test for predictive value by correlation\n"
      ]
    },
    {
      "cell_type": "code",
      "metadata": {
        "colab": {
          "base_uri": "https://localhost:8080/",
          "height": 297
        },
        "id": "wlaFmOVMeSKf",
        "outputId": "27d5e15d-c359-497a-c1a1-1f469c274071"
      },
      "source": [
        "df_mean.plot(x=\"compound_shifted\", y=\"returns\", style=\"o\")"
      ],
      "execution_count": null,
      "outputs": [
        {
          "output_type": "execute_result",
          "data": {
            "text/plain": [
              "<matplotlib.axes._subplots.AxesSubplot at 0x7f4148861e50>"
            ]
          },
          "metadata": {},
          "execution_count": 16
        },
        {
          "output_type": "display_data",
          "data": {
            "image/png": "[encoded data removed]",
            "text/plain": [
              "<Figure size 432x288 with 1 Axes>"
            ]
          },
          "metadata": {
            "needs_background": "light"
          }
        }
      ]
    },
    {
      "cell_type": "code",
      "metadata": {
        "colab": {
          "base_uri": "https://localhost:8080/"
        },
        "id": "b32rTjDIetx1",
        "outputId": "0737073f-4ce5-4eb1-ec56-568d7df93a9a"
      },
      "source": [
        "df_mean[\"returns\"].corr(df_mean[\"compound_shifted\"])"
      ],
      "execution_count": null,
      "outputs": [
        {
          "output_type": "execute_result",
          "data": {
            "text/plain": [
              "-0.003154366493376913"
            ]
          },
          "metadata": {},
          "execution_count": 17
        }
      ]
    },
    {
      "cell_type": "markdown",
      "metadata": {
        "id": "KPjt2Q4V95hA"
      },
      "source": [
        "## Results and further improvements\n",
        "\n",
        "As we can see the correlation is close to 0 which means that news headlines alone do no have any predictive value on tomorrows return value. There are improvements which can be made to increase the accuracy.\n",
        "\n",
        "\n",
        "### 2 second lag and long term relationship\n",
        "\n",
        "The headlines could be split to 2 types \n",
        "- Sensational News \n",
        "- Fundamentals-related News\n",
        "\n",
        "\n",
        "#### Sensational News\n",
        "\n",
        "This refers to news that causes an instant impact. If we are doing this, we should use news headlines instead of analysis headlines.\n",
        "\n",
        "Since the news have an instant impact, if we use a 1-day lag for this, it will be too slow.\n",
        "\n",
        "Thus, we are better off using a shorter time delay such as a 2 second lag. But note that data of such low timeframes are expensive and might not be accurate.\n",
        "\n",
        "The bad news is, even if you managed to run this analysis significantly accurately, you will be slaughtered by high frequency, or even regular quantitative hedge funds in the real world as you are competing on speed of execution.\n",
        "\n",
        "#### Fundamentals-related News\n",
        "\n",
        "This type of news has a longer term fundamental effect.\n",
        "A 1-day lag might be too short for the effect to kick in.\n",
        "\n",
        "In this case, we can create a long term index score and add or subtract from it based on the individual article headlines. In addition, since newer headlines might have more impact, we can lower the weightage for older headlines.\n",
        "\n",
        "\n",
        "### Accuracy of the VADER Sentiment Analyzer\n",
        "\n",
        "By looking at the output above one can see that the accuracy of VADER is not perfect especially for Finance related news.If we could get a large collection of finance related news we could train our own sentiment analyzer on this specific type of data\n",
        "\n",
        "### Headlines from other news websites\n",
        "\n",
        "Currently we have only looked at headline data from FinViz. It might be safer to procure our data from different sources for different purposes.\n",
        "\n",
        "For sensational news, you would want headlines from the bigger news channels.\n",
        "\n",
        "For longer term fundamental articles, you might want to procure them from more legitimate blogs or research firms.\n",
        "\n",
        "In both cases, you will want a mixture from different sources. This will increase objectivity of the data as some sources tend to be biased."
      ]
    },
    {
      "cell_type": "code",
      "metadata": {
        "colab": {
          "base_uri": "https://localhost:8080/"
        },
        "id": "KWLKGYf71uHe",
        "outputId": "7c1b1425-7c18-41b0-90e3-2fe7b71818f2"
      },
      "source": [
        "!pip install transformers\n"
      ],
      "execution_count": null,
      "outputs": [
        {
          "output_type": "stream",
          "name": "stdout",
          "text": [
            "Requirement already satisfied: transformers in /usr/local/lib/python3.7/dist-packages (4.12.5)\n",
            "Requirement already satisfied: packaging>=20.0 in /usr/local/lib/python3.7/dist-packages (from transformers) (21.3)\n",
            "Requirement already satisfied: sacremoses in /usr/local/lib/python3.7/dist-packages (from transformers) (0.0.46)\n",
            "Requirement already satisfied: tqdm>=4.27 in /usr/local/lib/python3.7/dist-packages (from transformers) (4.62.3)\n",
            "Requirement already satisfied: numpy>=1.17 in /usr/local/lib/python3.7/dist-packages (from transformers) (1.19.5)\n",
            "Requirement already satisfied: regex!=2019.12.17 in /usr/local/lib/python3.7/dist-packages (from transformers) (2019.12.20)\n",
            "Requirement already satisfied: huggingface-hub<1.0,>=0.1.0 in /usr/local/lib/python3.7/dist-packages (from transformers) (0.2.0)\n",
            "Requirement already satisfied: filelock in /usr/local/lib/python3.7/dist-packages (from transformers) (3.4.0)\n",
            "Requirement already satisfied: importlib-metadata in /usr/local/lib/python3.7/dist-packages (from transformers) (4.8.2)\n",
            "Requirement already satisfied: requests in /usr/local/lib/python3.7/dist-packages (from transformers) (2.23.0)\n",
            "Requirement already satisfied: tokenizers<0.11,>=0.10.1 in /usr/local/lib/python3.7/dist-packages (from transformers) (0.10.3)\n",
            "Requirement already satisfied: pyyaml>=5.1 in /usr/local/lib/python3.7/dist-packages (from transformers) (6.0)\n",
            "Requirement already satisfied: typing-extensions>=3.7.4.3 in /usr/local/lib/python3.7/dist-packages (from huggingface-hub<1.0,>=0.1.0->transformers) (3.10.0.2)\n",
            "Requirement already satisfied: pyparsing!=3.0.5,>=2.0.2 in /usr/local/lib/python3.7/dist-packages (from packaging>=20.0->transformers) (3.0.6)\n",
            "Requirement already satisfied: zipp>=0.5 in /usr/local/lib/python3.7/dist-packages (from importlib-metadata->transformers) (3.6.0)\n",
            "Requirement already satisfied: idna<3,>=2.5 in /usr/local/lib/python3.7/dist-packages (from requests->transformers) (2.10)\n",
            "Requirement already satisfied: urllib3!=1.25.0,!=1.25.1,<1.26,>=1.21.1 in /usr/local/lib/python3.7/dist-packages (from requests->transformers) (1.24.3)\n",
            "Requirement already satisfied: chardet<4,>=3.0.2 in /usr/local/lib/python3.7/dist-packages (from requests->transformers) (3.0.4)\n",
            "Requirement already satisfied: certifi>=2017.4.17 in /usr/local/lib/python3.7/dist-packages (from requests->transformers) (2021.10.8)\n",
            "Requirement already satisfied: six in /usr/local/lib/python3.7/dist-packages (from sacremoses->transformers) (1.15.0)\n",
            "Requirement already satisfied: joblib in /usr/local/lib/python3.7/dist-packages (from sacremoses->transformers) (1.1.0)\n",
            "Requirement already satisfied: click in /usr/local/lib/python3.7/dist-packages (from sacremoses->transformers) (7.1.2)\n"
          ]
        }
      ]
    },
    {
      "cell_type": "code",
      "metadata": {
        "id": "oQLVaXs41w46"
      },
      "source": [
        "from transformers import AutoTokenizer, AutoModelForSequenceClassification\n",
        "  \n",
        "tokenizer = AutoTokenizer.from_pretrained(\"ProsusAI/finbert\")\n",
        "model = AutoModelForSequenceClassification.from_pretrained(\"ProsusAI/finbert\")\n"
      ],
      "execution_count": null,
      "outputs": []
    },
    {
      "cell_type": "code",
      "metadata": {
        "colab": {
          "base_uri": "https://localhost:8080/"
        },
        "id": "iXJYOs8_3W00",
        "outputId": "2f888c29-0bfd-4ca8-a3ff-2576450e63b4"
      },
      "source": [
        "#df2 = df.sample(frac=.5)\n",
        "df2 = headline_df.sample(frac=.01)\n",
        "\n",
        "\n",
        "inputs = tokenizer(df2[\"title\"].tolist(), padding = True, truncation = True, return_tensors='pt')\n",
        "print(inputs)"
      ],
      "execution_count": null,
      "outputs": [
        {
          "output_type": "stream",
          "name": "stdout",
          "text": [
            "{'input_ids': tensor([[  101,  1031,  2678,  ...,     0,     0,     0],\n",
            "        [  101,  2054,  1005,  ...,     0,     0,     0],\n",
            "        [  101,  2642,  3404,  ...,     0,     0,     0],\n",
            "        ...,\n",
            "        [  101,  2777, 15509,  ...,     0,     0,     0],\n",
            "        [  101,  1047,  2721,  ...,     0,     0,     0],\n",
            "        [  101,  3145,  2155,  ...,     0,     0,     0]]), 'token_type_ids': tensor([[0, 0, 0,  ..., 0, 0, 0],\n",
            "        [0, 0, 0,  ..., 0, 0, 0],\n",
            "        [0, 0, 0,  ..., 0, 0, 0],\n",
            "        ...,\n",
            "        [0, 0, 0,  ..., 0, 0, 0],\n",
            "        [0, 0, 0,  ..., 0, 0, 0],\n",
            "        [0, 0, 0,  ..., 0, 0, 0]]), 'attention_mask': tensor([[1, 1, 1,  ..., 0, 0, 0],\n",
            "        [1, 1, 1,  ..., 0, 0, 0],\n",
            "        [1, 1, 1,  ..., 0, 0, 0],\n",
            "        ...,\n",
            "        [1, 1, 1,  ..., 0, 0, 0],\n",
            "        [1, 1, 1,  ..., 0, 0, 0],\n",
            "        [1, 1, 1,  ..., 0, 0, 0]])}\n"
          ]
        }
      ]
    },
    {
      "cell_type": "code",
      "metadata": {
        "colab": {
          "base_uri": "https://localhost:8080/"
        },
        "id": "FEiq10yYKSdb",
        "outputId": "a0de2ca8-8e1d-4218-af26-4b6b4868203f"
      },
      "source": [
        "outputs = model(**inputs)\n",
        "print(outputs.logits.shape)\n"
      ],
      "execution_count": null,
      "outputs": [
        {
          "output_type": "stream",
          "name": "stdout",
          "text": [
            "torch.Size([500, 3])\n"
          ]
        }
      ]
    },
    {
      "cell_type": "code",
      "metadata": {
        "colab": {
          "base_uri": "https://localhost:8080/"
        },
        "id": "h1YHmjs4OOWh",
        "outputId": "266c6acd-aa57-4acc-8a2b-7d0cea3260d4"
      },
      "source": [
        "import torch\n",
        "\n",
        "predictions = torch.nn.functional.softmax(outputs.logits, dim=-1)\n",
        "print(predictions[0]\n",
        ")"
      ],
      "execution_count": null,
      "outputs": [
        {
          "output_type": "stream",
          "name": "stdout",
          "text": [
            "tensor([0.0354, 0.7442, 0.2205], grad_fn=<SelectBackward0>)\n"
          ]
        }
      ]
    },
    {
      "cell_type": "code",
      "metadata": {
        "id": "yGt0lmZlgQGk"
      },
      "source": [
        "model.config.id2label\n",
        "\n",
        "#Headline #Positive #Negative #Neutral\n",
        "positive = predictions[:, 0].tolist()\n",
        "negative = predictions[:, 1].tolist()\n",
        "neutral = predictions[:, 2].tolist()\n",
        "\n",
        "table = {'Headline':df2[\"title\"].tolist(),\n",
        "         \"Positive\":positive,\n",
        "         \"Negative\":negative, \n",
        "         \"Neutral\":neutral}"
      ],
      "execution_count": null,
      "outputs": []
    },
    {
      "cell_type": "code",
      "metadata": {
        "colab": {
          "base_uri": "https://localhost:8080/",
          "height": 206
        },
        "id": "3MDeEwlJgq9s",
        "outputId": "5b58747d-eb0d-4863-ac40-c3a11bd96584"
      },
      "source": [
        "df_finbert = pd.DataFrame(table, columns = [\"Headline\", \"Positive\", \"Negative\", \"Neutral\"])\n",
        "\n",
        "df_finbert[\"compound\"] = df_finbert.apply(lambda x: (x[\"Positive\"] - x[\"Negative\"])/2, axis=1)\n",
        "df_finbert.head()"
      ],
      "execution_count": null,
      "outputs": [
        {
          "output_type": "execute_result",
          "data": {
            "text/html": [
              "<div>\n",
              "<style scoped>\n",
              "    .dataframe tbody tr th:only-of-type {\n",
              "        vertical-align: middle;\n",
              "    }\n",
              "\n",
              "    .dataframe tbody tr th {\n",
              "        vertical-align: top;\n",
              "    }\n",
              "\n",
              "    .dataframe thead th {\n",
              "        text-align: right;\n",
              "    }\n",
              "</style>\n",
              "<table border=\"1\" class=\"dataframe\">\n",
              "  <thead>\n",
              "    <tr style=\"text-align: right;\">\n",
              "      <th></th>\n",
              "      <th>Headline</th>\n",
              "      <th>Positive</th>\n",
              "      <th>Negative</th>\n",
              "      <th>Neutral</th>\n",
              "      <th>compound</th>\n",
              "    </tr>\n",
              "  </thead>\n",
              "  <tbody>\n",
              "    <tr>\n",
              "      <th>0</th>\n",
              "      <td>[video]Activision Blizzard Stock: We're Still ...</td>\n",
              "      <td>0.035369</td>\n",
              "      <td>0.744167</td>\n",
              "      <td>0.220464</td>\n",
              "      <td>-0.354399</td>\n",
              "    </tr>\n",
              "    <tr>\n",
              "      <th>1</th>\n",
              "      <td>What's in the Offing for Salem Media's (SALM) ...</td>\n",
              "      <td>0.025369</td>\n",
              "      <td>0.369915</td>\n",
              "      <td>0.604716</td>\n",
              "      <td>-0.172273</td>\n",
              "    </tr>\n",
              "    <tr>\n",
              "      <th>2</th>\n",
              "      <td>Northern Trust Asset Management Names Chief In...</td>\n",
              "      <td>0.027261</td>\n",
              "      <td>0.028030</td>\n",
              "      <td>0.944709</td>\n",
              "      <td>-0.000384</td>\n",
              "    </tr>\n",
              "    <tr>\n",
              "      <th>3</th>\n",
              "      <td>Raytheon (RTX) Arm Wins $737M Deal to Support ...</td>\n",
              "      <td>0.934068</td>\n",
              "      <td>0.013752</td>\n",
              "      <td>0.052180</td>\n",
              "      <td>0.460158</td>\n",
              "    </tr>\n",
              "    <tr>\n",
              "      <th>4</th>\n",
              "      <td>Utility Stock Q2 Earnings Due on Jul 29: XEL, ...</td>\n",
              "      <td>0.026822</td>\n",
              "      <td>0.039680</td>\n",
              "      <td>0.933498</td>\n",
              "      <td>-0.006429</td>\n",
              "    </tr>\n",
              "  </tbody>\n",
              "</table>\n",
              "</div>"
            ],
            "text/plain": [
              "                                            Headline  ...  compound\n",
              "0  [video]Activision Blizzard Stock: We're Still ...  ... -0.354399\n",
              "1  What's in the Offing for Salem Media's (SALM) ...  ... -0.172273\n",
              "2  Northern Trust Asset Management Names Chief In...  ... -0.000384\n",
              "3  Raytheon (RTX) Arm Wins $737M Deal to Support ...  ...  0.460158\n",
              "4  Utility Stock Q2 Earnings Due on Jul 29: XEL, ...  ... -0.006429\n",
              "\n",
              "[5 rows x 5 columns]"
            ]
          },
          "metadata": {},
          "execution_count": 32
        }
      ]
    },
    {
      "cell_type": "code",
      "metadata": {
        "id": "QESipM4kjBTt"
      },
      "source": [
        ""
      ],
      "execution_count": null,
      "outputs": []
    }
  ]
}